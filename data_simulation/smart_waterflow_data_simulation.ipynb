{
  "nbformat": 4,
  "nbformat_minor": 0,
  "metadata": {
    "colab": {
      "provenance": []
    },
    "kernelspec": {
      "name": "python3",
      "display_name": "Python 3"
    },
    "language_info": {
      "name": "python"
    }
  },
  "cells": [
    {
      "cell_type": "code",
      "execution_count": null,
      "metadata": {
        "id": "P9kxNMtmqdhx"
      },
      "outputs": [],
      "source": [
        "import pandas as pd\n",
        "import numpy as np\n",
        "import random\n",
        "from datetime import datetime, timedelta"
      ]
    },
    {
      "cell_type": "code",
      "source": [
        "# Simulation parameters\n",
        "num_meters = 50\n",
        "start_date = datetime(2025, 4, 1)\n",
        "end_date = datetime(2025, 5, 1)\n",
        "time_interval = timedelta(minutes=15)  # finer granularity"
      ],
      "metadata": {
        "id": "u80fYQIRSD6I"
      },
      "execution_count": null,
      "outputs": []
    },
    {
      "cell_type": "markdown",
      "source": [],
      "metadata": {
        "id": "8UxpKXr3r4i7"
      }
    },
    {
      "cell_type": "code",
      "source": [
        "# Static configurations\n",
        "meter_ids = [f\"meter_{i+1}\" for i in range(num_meters)]\n",
        "meter_types = ['residential', 'industrial']\n",
        "districts = ['North', 'South', 'Central', 'East', 'West']"
      ],
      "metadata": {
        "id": "XJjxYaNCSF_M"
      },
      "execution_count": null,
      "outputs": []
    },
    {
      "cell_type": "code",
      "source": [
        "data = []\n",
        "\n",
        "# Main simulation loop\n",
        "current_time = start_date\n",
        "while current_time < end_date:\n",
        "    for meter_id in meter_ids:\n",
        "        meter_type = random.choice(meter_types)\n",
        "        district = random.choice(districts)\n",
        "        status = random.choices(['active', 'offline', 'maintenance'], weights=[0.9, 0.05, 0.05])[0]\n",
        "\n",
        "        # Base values\n",
        "        flow = np.random.normal(loc=15 if meter_type == 'residential' else 35, scale=5)\n",
        "        pressure = np.random.normal(loc=60, scale=10)\n",
        "\n",
        "        # Sensor errors\n",
        "        if random.random() < 0.02:\n",
        "            flow = -abs(flow)\n",
        "        if random.random() < 0.02:\n",
        "            pressure = None\n",
        "\n",
        "        updated_at = current_time + timedelta(minutes=random.randint(1, 10))\n",
        "\n",
        "        data.append({\n",
        "            \"meter_id\": meter_id,\n",
        "            \"timestamp\": current_time,\n",
        "            \"flow_lmin\": round(flow, 2),\n",
        "            \"pressure_psi\": round(pressure, 2) if pressure is not None else None,\n",
        "            \"latitude\": round(np.random.uniform(6.4, 6.6), 6),\n",
        "            \"longitude\": round(np.random.uniform(3.3, 3.5), 6),\n",
        "            \"updated_at\": updated_at,\n",
        "            \"meter_type\": meter_type,\n",
        "            \"district\": district,\n",
        "            \"status\": status\n",
        "        })\n",
        "    current_time += time_interval\n",
        "\n",
        "df = pd.DataFrame(data)"
      ],
      "metadata": {
        "id": "4GZMTWJJSKYO"
      },
      "execution_count": null,
      "outputs": []
    },
    {
      "cell_type": "code",
      "source": [
        "# Add 5% duplicates with modified timestamps\n",
        "duplicates = df.sample(frac=0.05)\n",
        "duplicates['updated_at'] = duplicates['updated_at'] + pd.to_timedelta(np.random.randint(1, 5, size=len(duplicates)), unit='m')\n",
        "df = pd.concat([df, duplicates], ignore_index=True)"
      ],
      "metadata": {
        "id": "1CSF3afISNKO"
      },
      "execution_count": null,
      "outputs": []
    },
    {
      "cell_type": "code",
      "source": [
        "# Export\n",
        "df.to_csv(\"smart_water_data.csv\", index=False)\n",
        "print(\"Data exported to smart_water_data.csv\")"
      ],
      "metadata": {
        "colab": {
          "base_uri": "https://localhost:8080/"
        },
        "id": "BEGy4apmSPjv",
        "outputId": "905cf04c-53b6-4486-b1bc-34a985122a03"
      },
      "execution_count": null,
      "outputs": [
        {
          "output_type": "stream",
          "name": "stdout",
          "text": [
            "Data exported to smart_water_data.csv\n"
          ]
        }
      ]
    }
  ]
}